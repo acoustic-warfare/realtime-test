{
 "cells": [
  {
   "cell_type": "code",
   "execution_count": null,
   "metadata": {},
   "outputs": [],
   "source": [
    "import numpy as np"
   ]
  },
  {
   "cell_type": "code",
   "execution_count": null,
   "metadata": {},
   "outputs": [],
   "source": [
    "class RingArray(np.ndarray):\n",
    "    \"\"\"A modified numpy array type that functions like a stack. \n",
    "    RingArray has a set size specified during initialisation. \n",
    "    Add new data using the append() method, which will replace the \n",
    "    next value in a cyclical fashion. The array itself has all the \n",
    "    properties of a numpy array e.g. it can be sliced and accessed as \n",
    "    normal. Initially fills the array with np.nan values.\n",
    "    \n",
    "    Options\n",
    "    --------\n",
    "    shape : tuple\n",
    "        A tuple of (height, width) for the maximum size of the array.\n",
    "\n",
    "    Attributes\n",
    "    ----------\n",
    "    Inherited from nd.array. Initially fills array with np.nan values.\n",
    "    \n",
    "    Methods\n",
    "    --------\n",
    "    append(data)\n",
    "        Add/replace data in the next element of the cycle.\n",
    "        Data should be the length of the RingArray width.\n",
    "    \n",
    "    \"\"\"    \n",
    "    def __new__(subtype, shape):\n",
    "        obj = super().__new__(subtype, shape)\n",
    "        \n",
    "        obj = np.vectorize(lambda x: np.nan)(obj)\n",
    "        \n",
    "        obj._pointer = cycle(np.arange(0, shape[0]))\n",
    "        \n",
    "        return obj\n",
    "    \n",
    "    # needed by numpy\n",
    "    def __array_finalize__(self, obj):\n",
    "         if obj is None: return\n",
    "        \n",
    "    # add data to the next element (looped)\n",
    "    def append(self, data):\n",
    "        \"\"\"Adds or replaces data in the RingArray.\n",
    "        The function writes to the next row in the Array.\n",
    "        Once the last row is reached, the assignment row \n",
    "        loops back to the start.\n",
    "\n",
    "        Parameters\n",
    "        ----------\n",
    "        data : array_like\n",
    "            Data should be the length of the RingArray width.\n",
    "        \"\"\"        \n",
    "        self[next(self._pointer)] = data\n",
    "\n",
    "ra = RingArray()\n",
    "\n",
    "ra.shape"
   ]
  }
 ],
 "metadata": {
  "kernelspec": {
   "display_name": "Python 3",
   "language": "python",
   "name": "python3"
  },
  "language_info": {
   "name": "python",
   "version": "3.11.2"
  },
  "orig_nbformat": 4
 },
 "nbformat": 4,
 "nbformat_minor": 2
}
